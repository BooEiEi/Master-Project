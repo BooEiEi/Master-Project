{
  "nbformat": 4,
  "nbformat_minor": 0,
  "metadata": {
    "colab": {
      "provenance": [],
      "toc_visible": true,
      "authorship_tag": "ABX9TyMmVh6u9+9j33Up/0asqwL8",
      "include_colab_link": true
    },
    "kernelspec": {
      "name": "python3",
      "display_name": "Python 3"
    },
    "language_info": {
      "name": "python"
    }
  },
  "cells": [
    {
      "cell_type": "markdown",
      "metadata": {
        "id": "view-in-github",
        "colab_type": "text"
      },
      "source": [
        "<a href=\"https://colab.research.google.com/github/BooEiEi/Master-Project/blob/main/Hyperparameter_XGBOOST.ipynb\" target=\"_parent\"><img src=\"https://colab.research.google.com/assets/colab-badge.svg\" alt=\"Open In Colab\"/></a>"
      ]
    },
    {
      "cell_type": "code",
      "source": [
        "import os# os ใช้จัดการกับไฟล์ ว่าอยู่ที่ไหน\n",
        "import numpy as np\n",
        "import pandas as pd\n",
        "import seaborn as sns\n",
        "import matplotlib.pyplot as plt\n",
        "from sklearn.preprocessing import MinMaxScaler\n",
        "from google.colab import drive #เชื่อม Google drive\n",
        "drive.mount('/content/drive')\n",
        "path_DF = '/content/drive/My Drive/master project/data/DF'\n",
        "path_DF2 = '/content/drive/My Drive/master project/data/DF2'"
      ],
      "metadata": {
        "id": "bDFkrmen_xap"
      },
      "execution_count": null,
      "outputs": []
    },
    {
      "cell_type": "code",
      "source": [
        "from xgboost import XGBRegressor\n",
        "from sklearn.model_selection import GridSearchCV, TimeSeriesSplit\n",
        "from sklearn.metrics import mean_squared_error"
      ],
      "metadata": {
        "id": "jPqiz1M7hnEP"
      },
      "execution_count": null,
      "outputs": []
    },
    {
      "cell_type": "code",
      "source": [
        "df_META = pd.read_csv(os.path.join(path_DF, 'df_META.csv'))\n",
        "df_AAPL= pd.read_csv(os.path.join(path_DF, 'df_AAPL.csv'))\n",
        "df_MSFT= pd.read_csv(os.path.join(path_DF, 'df_MSFT.csv'))\n",
        "df_NVDA= pd.read_csv(os.path.join(path_DF, 'df_NVDA.csv'))\n",
        "df_GOOG= pd.read_csv(os.path.join(path_DF2, 'df_GOOG.csv'))"
      ],
      "metadata": {
        "id": "gG9YiElc_7kz"
      },
      "execution_count": null,
      "outputs": []
    },
    {
      "cell_type": "code",
      "source": [
        "df_AAPL=df_AAPL.drop(['Unnamed: 0'], axis=1)\n",
        "df_AAPL['date'] = pd.to_datetime(df_AAPL['date'])\n",
        "for lag in [1, 3, 5, 7]:\n",
        "    df_AAPL[f'lag_{lag}'] = df_AAPL['Stockprice_AAPL'].shift(lag)\n",
        "\n",
        "# ลบค่าที่เป็น NaN จากการสร้าง lag features\n",
        "df_AAPL.dropna(inplace=True)"
      ],
      "metadata": {
        "id": "djQalIUbey2Z"
      },
      "execution_count": null,
      "outputs": []
    },
    {
      "cell_type": "code",
      "source": [
        "df_MSFT=df_MSFT.drop(['Unnamed: 0'], axis=1)\n",
        "df_MSFT['date'] = pd.to_datetime(df_MSFT['date'])\n",
        "for lag in [1, 3, 5, 7]:\n",
        "    df_MSFT[f'lag_{lag}'] = df_MSFT['Stockprice_MSFT'].shift(lag)\n",
        "\n",
        "# ลบค่าที่เป็น NaN จากการสร้าง lag features\n",
        "df_MSFT.dropna(inplace=True)"
      ],
      "metadata": {
        "id": "phlW5GTCey2Z"
      },
      "execution_count": null,
      "outputs": []
    },
    {
      "cell_type": "code",
      "source": [
        "df_NVDA=df_NVDA.drop(['Unnamed: 0'], axis=1)\n",
        "df_NVDA['date'] = pd.to_datetime(df_NVDA['date'])\n",
        "for lag in [1, 3, 5, 7]:\n",
        "    df_NVDA[f'lag_{lag}'] = df_NVDA['Stockprice_NVDA'].shift(lag)\n",
        "\n",
        "# ลบค่าที่เป็น NaN จากการสร้าง lag features\n",
        "df_NVDA.dropna(inplace=True)"
      ],
      "metadata": {
        "id": "6W6ztoJuey2Z"
      },
      "execution_count": null,
      "outputs": []
    },
    {
      "cell_type": "code",
      "source": [
        "df_GOOG=df_GOOG.drop(['Unnamed: 0'], axis=1)\n",
        "df_GOOG['date'] = pd.to_datetime(df_GOOG['date'])"
      ],
      "metadata": {
        "id": "LQ9DvJ_Dey2Z"
      },
      "execution_count": null,
      "outputs": []
    },
    {
      "cell_type": "code",
      "source": [
        "train_size = int(len(df_META) * 0.7)  # 70% ของ 753\n",
        "test_size = len(df_META) - train_size  # 30% ที่เหลือ"
      ],
      "metadata": {
        "id": "ag8q6iyhqdaZ"
      },
      "execution_count": null,
      "outputs": []
    },
    {
      "cell_type": "markdown",
      "source": [
        "# META"
      ],
      "metadata": {
        "id": "BzFoELkSpPNh"
      }
    },
    {
      "cell_type": "markdown",
      "source": [
        "## Train Test"
      ],
      "metadata": {
        "id": "TKO1AFez3JBl"
      }
    },
    {
      "cell_type": "code",
      "source": [
        "# แบ่งข้อมูลโดยไม่สุ่ม (คงลำดับเวลา)\n",
        "train_META = df_META.iloc[:train_size]  # ข้อมูล train\n",
        "test_META = df_META.iloc[train_size:]  # ข้อมูล test"
      ],
      "metadata": {
        "id": "iMokZmc2qCHc"
      },
      "execution_count": null,
      "outputs": []
    },
    {
      "cell_type": "markdown",
      "source": [
        "### Train Varidation"
      ],
      "metadata": {
        "id": "88dfBz183N0n"
      }
    },
    {
      "cell_type": "code",
      "source": [
        "X_META = train_META.drop(columns=[\"Stockprice_META\",\"date\",\"RETAIL_SALES\", \"US_Dollar_Index\", \"WTI\"])\n",
        "y_META = train_META[\"Stockprice_META\"]"
      ],
      "metadata": {
        "id": "z2-SLTebqAfX"
      },
      "execution_count": null,
      "outputs": []
    },
    {
      "cell_type": "markdown",
      "source": [],
      "metadata": {
        "id": "YZjMqVT43TeJ"
      }
    },
    {
      "cell_type": "code",
      "source": [
        "scaler = MinMaxScaler(feature_range=(0, 1))\n",
        "\n",
        "X_META = scaler.fit_transform(X_META)"
      ],
      "metadata": {
        "id": "fxbpE6x0Iqqi"
      },
      "execution_count": null,
      "outputs": []
    },
    {
      "cell_type": "code",
      "source": [
        "model = XGBRegressor(random_state=42)\n",
        "\n",
        "# Define the hyperparameter search space\n",
        "param_grid = {\n",
        "    'learning_rate': [0.01, 0.1, 0.2],\n",
        "    'max_depth': [3, 5, 7, 9],\n",
        "    'alpha': [0, 0.1, 1, 10],\n",
        "    'reg_lambda' : [0, 0.1, 1, 10],\n",
        "    'n_estimators' : [100, 200, 400, 600],\n",
        "    'min_child_weight' : [ 1, 3, 5],\n",
        "    'colsample_bytree' : [0.1, 0.3, 0.5, 0.7]\n",
        "}\n",
        "\n",
        "# Create a TimeSeriesSplit object for time series cross-validation\n",
        "tscv = TimeSeriesSplit(n_splits=5)\n",
        "\n",
        "# Perform grid search\n",
        "grid_search = GridSearchCV(estimator=model, param_grid=param_grid, cv=tscv, scoring='neg_mean_squared_error', n_jobs=-1)\n",
        "\n",
        "# Fit the grid search object on the training data\n",
        "grid_search.fit(X_META , y_META)\n",
        "\n",
        "# Retrieve the best model and best hyperparameters\n",
        "best_model = grid_search.best_estimator_\n",
        "best_params = grid_search.best_params_\n",
        "\n",
        "# Evaluate the best model's performance on the test set\n",
        "y_pred = best_model.predict(X_META)\n",
        "mse = mean_squared_error(y_META, y_pred)\n",
        "print(f\"Best Hyperparameters: {best_params}\")\n",
        "print(f\"Test Set Mean Squared Error: {mse:.4f}\")"
      ],
      "metadata": {
        "colab": {
          "base_uri": "https://localhost:8080/"
        },
        "id": "om3hW-8q3HMo",
        "outputId": "633645e3-b484-42ac-8065-9ea4161bc9ba"
      },
      "execution_count": null,
      "outputs": [
        {
          "output_type": "stream",
          "name": "stdout",
          "text": [
            "Best Hyperparameters: {'alpha': 0.1, 'colsample_bytree': 0.5, 'learning_rate': 0.2, 'max_depth': 3, 'min_child_weight': 1, 'n_estimators': 600, 'reg_lambda': 0.1}\n",
            "Test Set Mean Squared Error: 0.2529\n"
          ]
        }
      ]
    },
    {
      "cell_type": "markdown",
      "source": [
        "#AAPL"
      ],
      "metadata": {
        "id": "e8je-Gc7pSbL"
      }
    },
    {
      "cell_type": "code",
      "source": [
        "# แบ่งข้อมูลโดยไม่สุ่ม (คงลำดับเวลา)\n",
        "train_AAPL = df_AAPL.iloc[:train_size]  # ข้อมูล train\n",
        "test_AAPL = df_AAPL.iloc[train_size:]  # ข้อมูล test"
      ],
      "metadata": {
        "id": "LEsjSeu9q6xD"
      },
      "execution_count": null,
      "outputs": []
    },
    {
      "cell_type": "code",
      "source": [
        "X_AAPL = train_AAPL.drop(columns=[\"Stockprice_AAPL\",\"date\", \"Interest\", \"US_Treasury_Yield\", \"RETAIL_SALES\", \"US_Dollar_Index\"])\n",
        "y_AAPL = train_AAPL[\"Stockprice_AAPL\"]"
      ],
      "metadata": {
        "id": "A8OkRpKIq6i8"
      },
      "execution_count": null,
      "outputs": []
    },
    {
      "cell_type": "code",
      "source": [
        "X_AAPL = scaler.fit_transform(X_AAPL)"
      ],
      "metadata": {
        "id": "JrXkn9DPItmf"
      },
      "execution_count": null,
      "outputs": []
    },
    {
      "cell_type": "code",
      "source": [
        "model = XGBRegressor(random_state=42)\n",
        "\n",
        "# Define the hyperparameter search space\n",
        "param_grid = {\n",
        "    'learning_rate': [0.01, 0.1, 0.2],\n",
        "    'max_depth': [3, 5, 7, 9],\n",
        "    'alpha': [0, 0.1, 1, 10],\n",
        "    'reg_lambda' : [0, 0.1, 1, 10],\n",
        "    'n_estimators' : [100, 200, 400, 600],\n",
        "    'min_child_weight' : [ 1, 3, 5],\n",
        "    'colsample_bytree' : [0.1, 0.3, 0.5, 0.7]\n",
        "}\n",
        "\n",
        "# Create a TimeSeriesSplit object for time series cross-validation\n",
        "tscv = TimeSeriesSplit(n_splits=5)\n",
        "\n",
        "# Perform grid search\n",
        "grid_search = GridSearchCV(estimator=model, param_grid=param_grid, cv=tscv, scoring='neg_mean_squared_error', n_jobs=-1)\n",
        "\n",
        "# Fit the grid search object on the training data\n",
        "grid_search.fit(X_AAPL , y_AAPL)\n",
        "\n",
        "# Retrieve the best model and best hyperparameters\n",
        "best_model = grid_search.best_estimator_\n",
        "best_params = grid_search.best_params_\n",
        "\n",
        "# Evaluate the best model's performance on the test set\n",
        "y_pred = best_model.predict(X_AAPL)\n",
        "mse = mean_squared_error(y_AAPL, y_pred)\n",
        "print(f\"Best Hyperparameters: {best_params}\")\n",
        "print(f\"Test Set Mean Squared Error: {mse:.4f}\")"
      ],
      "metadata": {
        "id": "dCr0y2IE0Lhl",
        "colab": {
          "base_uri": "https://localhost:8080/"
        },
        "outputId": "900132c1-f001-4e00-d97a-c990e6d3aa4d"
      },
      "execution_count": null,
      "outputs": [
        {
          "output_type": "stream",
          "name": "stdout",
          "text": [
            "Best Hyperparameters: {'alpha': 0, 'colsample_bytree': 0.1, 'learning_rate': 0.2, 'max_depth': 3, 'min_child_weight': 3, 'n_estimators': 600, 'reg_lambda': 0.1}\n",
            "Test Set Mean Squared Error: 1.5950\n"
          ]
        }
      ]
    },
    {
      "cell_type": "markdown",
      "source": [
        "#MSFT"
      ],
      "metadata": {
        "id": "nwhdwvmDpXqC"
      }
    },
    {
      "cell_type": "code",
      "source": [
        "# แบ่งข้อมูลโดยไม่สุ่ม (คงลำดับเวลา)\n",
        "train_MSFT = df_MSFT.iloc[:train_size]  # ข้อมูล train\n",
        "test_MSFT = df_MSFT.iloc[train_size:]  # ข้อมูล test"
      ],
      "metadata": {
        "id": "ifskpSjoq97d"
      },
      "execution_count": null,
      "outputs": []
    },
    {
      "cell_type": "code",
      "source": [
        "X_MSFT = train_MSFT.drop(columns=[\"Stockprice_MSFT\",\"date\",\"RETAIL_SALES\", \"US_Dollar_Index\", \"WTI\"])\n",
        "y_MSFT = train_MSFT[\"Stockprice_MSFT\"]"
      ],
      "metadata": {
        "id": "JWJZRhL6q91W"
      },
      "execution_count": null,
      "outputs": []
    },
    {
      "cell_type": "code",
      "source": [
        "X_MSFT = scaler.fit_transform(X_MSFT)"
      ],
      "metadata": {
        "id": "HCetrvHZIv-5"
      },
      "execution_count": null,
      "outputs": []
    },
    {
      "cell_type": "code",
      "source": [
        "model = XGBRegressor(random_state=42)\n",
        "\n",
        "# Define the hyperparameter search space\n",
        "param_grid = {\n",
        "    'learning_rate': [0.01, 0.1, 0.2],\n",
        "    'max_depth': [3, 5, 7, 9],\n",
        "    'alpha': [0, 0.1, 1, 10],\n",
        "    'reg_lambda' : [0, 0.1, 1, 10],\n",
        "    'n_estimators' : [100, 200, 400, 600],\n",
        "    'min_child_weight' : [ 1, 3, 5],\n",
        "    'colsample_bytree' : [0.1, 0.3, 0.5, 0.7]\n",
        "}\n",
        "\n",
        "# Create a TimeSeriesSplit object for time series cross-validation\n",
        "tscv = TimeSeriesSplit(n_splits=5)\n",
        "\n",
        "# Perform grid search\n",
        "grid_search = GridSearchCV(estimator=model, param_grid=param_grid, cv=tscv, scoring='neg_mean_squared_error', n_jobs=-1)\n",
        "\n",
        "# Fit the grid search object on the training data\n",
        "grid_search.fit(X_MSFT , y_MSFT)\n",
        "\n",
        "# Retrieve the best model and best hyperparameters\n",
        "best_model = grid_search.best_estimator_\n",
        "best_params = grid_search.best_params_\n",
        "\n",
        "# Evaluate the best model's performance on the test set\n",
        "y_pred = best_model.predict(X_MSFT)\n",
        "mse = mean_squared_error(y_MSFT, y_pred)\n",
        "print(f\"Best Hyperparameters: {best_params}\")\n",
        "print(f\"Test Set Mean Squared Error: {mse:.4f}\")"
      ],
      "metadata": {
        "id": "wWYNMbRl8C42",
        "colab": {
          "base_uri": "https://localhost:8080/"
        },
        "outputId": "d8613c57-d607-4518-f368-cb325b2fb0d3"
      },
      "execution_count": null,
      "outputs": [
        {
          "output_type": "stream",
          "name": "stdout",
          "text": [
            "Best Hyperparameters: {'alpha': 0, 'colsample_bytree': 0.7, 'learning_rate': 0.2, 'max_depth': 3, 'min_child_weight': 1, 'n_estimators': 600, 'reg_lambda': 0}\n",
            "Test Set Mean Squared Error: 0.0122\n"
          ]
        }
      ]
    },
    {
      "cell_type": "markdown",
      "source": [
        "#NVDA"
      ],
      "metadata": {
        "id": "eKFF4B0VpZpJ"
      }
    },
    {
      "cell_type": "code",
      "source": [
        "# แบ่งข้อมูลโดยไม่สุ่ม (คงลำดับเวลา)\n",
        "train_NVDA = df_NVDA.iloc[:train_size]  # ข้อมูล train\n",
        "test_NVDA = df_NVDA.iloc[train_size:]  # ข้อมูล test"
      ],
      "metadata": {
        "id": "Oz5zZalBrCX9"
      },
      "execution_count": null,
      "outputs": []
    },
    {
      "cell_type": "code",
      "source": [
        "X_NVDA = train_NVDA[[\"sentiment_NVDA\", \"Interest\", \"CPI\", \"BTC\", \"S&P500\", \"lag_1\", \"lag_3\", \"lag_5\", \"lag_7\"]]\n",
        "y_NVDA = train_NVDA[\"Stockprice_NVDA\"]"
      ],
      "metadata": {
        "id": "r9JrzV8UrB_m"
      },
      "execution_count": null,
      "outputs": []
    },
    {
      "cell_type": "code",
      "source": [
        "model = XGBRegressor(random_state=42)\n",
        "\n",
        "# Define the hyperparameter search space\n",
        "param_grid = {\n",
        "    'learning_rate': [0.01, 0.1, 0.2],\n",
        "    'max_depth': [3, 5, 7, 9],\n",
        "    'alpha': [0, 0.1, 1, 10],\n",
        "    'reg_lambda' : [0, 0.1, 1, 10],\n",
        "    'n_estimators' : [100, 200, 400, 600],\n",
        "    'min_child_weight' : [ 1, 3, 5],\n",
        "    'colsample_bytree' : [0.1, 0.3, 0.5, 0.7]\n",
        "}\n",
        "\n",
        "# Create a TimeSeriesSplit object for time series cross-validation\n",
        "tscv = TimeSeriesSplit(n_splits=5)\n",
        "\n",
        "# Perform grid search\n",
        "grid_search = GridSearchCV(estimator=model, param_grid=param_grid, cv=tscv, scoring='neg_mean_squared_error', n_jobs=-1)\n",
        "\n",
        "# Fit the grid search object on the training data\n",
        "grid_search.fit(X_NVDA , y_NVDA)\n",
        "\n",
        "# Retrieve the best model and best hyperparameters\n",
        "best_model = grid_search.best_estimator_\n",
        "best_params = grid_search.best_params_\n",
        "\n",
        "# Evaluate the best model's performance on the test set\n",
        "y_pred = best_model.predict(X_NVDA)\n",
        "mse = mean_squared_error(y_NVDA, y_pred)\n",
        "print(f\"Best Hyperparameters: {best_params}\")\n",
        "print(f\"Test Set Mean Squared Error: {mse:.4f}\")"
      ],
      "metadata": {
        "id": "0YX2LQdx8IgO",
        "colab": {
          "base_uri": "https://localhost:8080/"
        },
        "outputId": "a67f0bfd-e458-4431-a3fc-3075d59a5c91"
      },
      "execution_count": null,
      "outputs": [
        {
          "output_type": "stream",
          "name": "stdout",
          "text": [
            "Best Hyperparameters: {'alpha': 10, 'colsample_bytree': 0.1, 'learning_rate': 0.2, 'max_depth': 5, 'min_child_weight': 5, 'n_estimators': 600, 'reg_lambda': 10}\n",
            "Test Set Mean Squared Error: 246.4914\n"
          ]
        }
      ]
    },
    {
      "cell_type": "markdown",
      "source": [
        "#Add variable"
      ],
      "metadata": {
        "id": "0O-u-9ZsSeu4"
      }
    },
    {
      "cell_type": "code",
      "source": [
        "# แบ่งข้อมูลโดยไม่สุ่ม (คงลำดับเวลา)\n",
        "train_NVDA = df_NVDA.iloc[:train_size]  # ข้อมูล train\n",
        "test_NVDA = df_NVDA.iloc[train_size:]  # ข้อมูล test"
      ],
      "metadata": {
        "id": "UKLh3n1T3f4s"
      },
      "execution_count": null,
      "outputs": []
    },
    {
      "cell_type": "code",
      "source": [
        "X_NVDA = train_NVDA[[\"sentiment_NVDA\", \"Interest\", \"CPI\", \"BTC\", \"S&P500\", \"lag_1\", \"lag_3\", \"lag_5\", \"lag_7\"]]\n",
        "y_NVDA = train_NVDA[\"Stockprice_NVDA\"]"
      ],
      "metadata": {
        "id": "LLNyj0T23f4s"
      },
      "execution_count": null,
      "outputs": []
    },
    {
      "cell_type": "code",
      "source": [
        "X_NVDA = scaler.fit_transform(X_NVDA)"
      ],
      "metadata": {
        "id": "rmRIf0EgI4__"
      },
      "execution_count": null,
      "outputs": []
    },
    {
      "cell_type": "code",
      "source": [
        "model = XGBRegressor(random_state=42)\n",
        "\n",
        "# Define the hyperparameter search space\n",
        "param_grid = {\n",
        "    'learning_rate': [0.01, 0.1, 0.2],\n",
        "    'max_depth': [3, 5, 7, 9],\n",
        "    'alpha': [0, 0.1, 1, 10],\n",
        "    'reg_lambda' : [0, 0.1, 1, 10],\n",
        "    'n_estimators' : [100, 200, 400, 600],\n",
        "    'min_child_weight' : [ 1, 3, 5],\n",
        "    'colsample_bytree' : [0.1, 0.3, 0.5, 0.7]\n",
        "}\n",
        "\n",
        "# Create a TimeSeriesSplit object for time series cross-validation\n",
        "tscv = TimeSeriesSplit(n_splits=5)\n",
        "\n",
        "# Perform grid search\n",
        "grid_search = GridSearchCV(estimator=model, param_grid=param_grid, cv=tscv, scoring='neg_mean_squared_error', n_jobs=-1)\n",
        "\n",
        "# Fit the grid search object on the training data\n",
        "grid_search.fit(X_NVDA , y_NVDA)\n",
        "\n",
        "# Retrieve the best model and best hyperparameters\n",
        "best_model = grid_search.best_estimator_\n",
        "best_params = grid_search.best_params_\n",
        "\n",
        "# Evaluate the best model's performance on the test set\n",
        "y_pred = best_model.predict(X_NVDA)\n",
        "mse = mean_squared_error(y_NVDA, y_pred)\n",
        "print(f\"Best Hyperparameters: {best_params}\")\n",
        "print(f\"Test Set Mean Squared Error: {mse:.4f}\")"
      ],
      "metadata": {
        "colab": {
          "base_uri": "https://localhost:8080/"
        },
        "outputId": "e19c820a-30f5-45ba-c498-73bcc914ad40",
        "id": "RIN_rRFg3f4s"
      },
      "execution_count": null,
      "outputs": [
        {
          "output_type": "stream",
          "name": "stdout",
          "text": [
            "Best Hyperparameters: {'alpha': 1, 'colsample_bytree': 0.7, 'learning_rate': 0.2, 'max_depth': 5, 'min_child_weight': 1, 'n_estimators': 200, 'reg_lambda': 10}\n",
            "Test Set Mean Squared Error: 9.7780\n"
          ]
        }
      ]
    },
    {
      "cell_type": "markdown",
      "source": [
        "#GOOG"
      ],
      "metadata": {
        "id": "NH80127epbd-"
      }
    },
    {
      "cell_type": "code",
      "source": [
        "# แบ่งข้อมูลโดยไม่สุ่ม (คงลำดับเวลา)\n",
        "train_GOOG = df_GOOG.iloc[:train_size]  # ข้อมูล train\n",
        "test_GOOG = df_GOOG.iloc[train_size:]  # ข้อมูล test"
      ],
      "metadata": {
        "id": "gOuGxqTPiK9H"
      },
      "execution_count": null,
      "outputs": []
    },
    {
      "cell_type": "code",
      "source": [
        "X_GOOG = train_GOOG.drop(columns=[\"Stockprice_GOOGL\",\"date\", \"Interest\", \"RETAIL_SALES\", \"US_Dollar_Index\", \"WTI\"])\n",
        "y_GOOG = train_GOOG[\"Stockprice_GOOGL\"]"
      ],
      "metadata": {
        "id": "tq-voUTqrI89"
      },
      "execution_count": null,
      "outputs": []
    },
    {
      "cell_type": "code",
      "source": [
        "X_GOOG = scaler.fit_transform(X_GOOG)"
      ],
      "metadata": {
        "id": "LHD8qP91I_Cy"
      },
      "execution_count": null,
      "outputs": []
    },
    {
      "cell_type": "code",
      "source": [
        "model = XGBRegressor(random_state=42)\n",
        "\n",
        "# Define the hyperparameter search space\n",
        "param_grid = {\n",
        "    'learning_rate': [0.01, 0.1, 0.2],\n",
        "    'max_depth': [3, 5, 7, 9],\n",
        "    'alpha': [0, 0.1, 1, 10],\n",
        "    'reg_lambda' : [0, 0.1, 1, 10],\n",
        "    'n_estimators' : [100, 200, 400, 600],\n",
        "    'min_child_weight' : [ 1, 3, 5],\n",
        "    'colsample_bytree' : [0.1, 0.3, 0.5, 0.7]\n",
        "}\n",
        "\n",
        "# Create a TimeSeriesSplit object for time series cross-validation\n",
        "tscv = TimeSeriesSplit(n_splits=5)\n",
        "\n",
        "# Perform grid search\n",
        "grid_search = GridSearchCV(estimator=model, param_grid=param_grid, cv=tscv, scoring='neg_mean_squared_error', n_jobs=-1)\n",
        "\n",
        "# Fit the grid search object on the training data\n",
        "grid_search.fit(X_GOOG , y_GOOG)\n",
        "\n",
        "# Retrieve the best model and best hyperparameters\n",
        "best_model = grid_search.best_estimator_\n",
        "best_params = grid_search.best_params_\n",
        "\n",
        "# Evaluate the best model's performance on the test set\n",
        "y_pred = best_model.predict(X_GOOG)\n",
        "mse = mean_squared_error(y_GOOG, y_pred)\n",
        "print(f\"Best Hyperparameters: {best_params}\")\n",
        "print(f\"Test Set Mean Squared Error: {mse:.4f}\")"
      ],
      "metadata": {
        "id": "qHjPjEBZ8JBV",
        "colab": {
          "base_uri": "https://localhost:8080/"
        },
        "outputId": "071f8b6f-fb9f-40a8-d106-66fd237d5c43"
      },
      "execution_count": null,
      "outputs": [
        {
          "output_type": "stream",
          "name": "stdout",
          "text": [
            "Best Hyperparameters: {'alpha': 0, 'colsample_bytree': 0.7, 'learning_rate': 0.2, 'max_depth': 3, 'min_child_weight': 1, 'n_estimators': 100, 'reg_lambda': 0}\n",
            "Test Set Mean Squared Error: 1.1096\n"
          ]
        }
      ]
    }
  ]
}