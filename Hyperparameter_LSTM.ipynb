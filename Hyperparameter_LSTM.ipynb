{
  "nbformat": 4,
  "nbformat_minor": 0,
  "metadata": {
    "colab": {
      "provenance": [],
      "authorship_tag": "ABX9TyPPtsYPKm2aHT2aIG0hz59t",
      "include_colab_link": true
    },
    "kernelspec": {
      "name": "python3",
      "display_name": "Python 3"
    },
    "language_info": {
      "name": "python"
    }
  },
  "cells": [
    {
      "cell_type": "markdown",
      "metadata": {
        "id": "view-in-github",
        "colab_type": "text"
      },
      "source": [
        "<a href=\"https://colab.research.google.com/github/BooEiEi/Master-Project/blob/main/Hyperparameter_LSTM.ipynb\" target=\"_parent\"><img src=\"https://colab.research.google.com/assets/colab-badge.svg\" alt=\"Open In Colab\"/></a>"
      ]
    },
    {
      "cell_type": "code",
      "execution_count": null,
      "metadata": {
        "colab": {
          "base_uri": "https://localhost:8080/"
        },
        "id": "F8MaZhlDrtcR",
        "outputId": "6f8fe22b-6964-49e6-a066-b9a6236f893f"
      },
      "outputs": [
        {
          "output_type": "stream",
          "name": "stdout",
          "text": [
            "Drive already mounted at /content/drive; to attempt to forcibly remount, call drive.mount(\"/content/drive\", force_remount=True).\n"
          ]
        }
      ],
      "source": [
        "import os# os ใช้จัดการกับไฟล์ ว่าอยู่ที่ไหน\n",
        "import numpy as np\n",
        "import pandas as pd\n",
        "import seaborn as sns\n",
        "import matplotlib.pyplot as plt\n",
        "from google.colab import drive #เชื่อม Google drive\n",
        "drive.mount('/content/drive')\n",
        "path_DF = '/content/drive/My Drive/master project/data/DF3'"
      ]
    },
    {
      "cell_type": "code",
      "execution_count": null,
      "metadata": {
        "colab": {
          "base_uri": "https://localhost:8080/"
        },
        "id": "E9jOL5oCa0GV",
        "outputId": "77e329ce-650b-432e-b428-2452e87a6d8f"
      },
      "outputs": [
        {
          "output_type": "stream",
          "name": "stdout",
          "text": [
            "scikit-learn version: 1.5.2\n",
            "tensorflow version: 2.18.0\n"
          ]
        }
      ],
      "source": [
        "import sklearn\n",
        "#import scikeras\n",
        "import tensorflow\n",
        "\n",
        "print(\"scikit-learn version:\", sklearn.__version__)\n",
        "#print(\"scikeras version:\", scikeras.__version__)\n",
        "print(\"tensorflow version:\", tensorflow.__version__)\n"
      ]
    },
    {
      "cell_type": "code",
      "execution_count": null,
      "metadata": {
        "colab": {
          "base_uri": "https://localhost:8080/"
        },
        "id": "HknQOqMRub22",
        "outputId": "277185ed-5794-4ddf-a17f-c3513a9a0b15"
      },
      "outputs": [
        {
          "output_type": "stream",
          "name": "stdout",
          "text": [
            "Found existing installation: scikit-learn 1.6.1\n",
            "Uninstalling scikit-learn-1.6.1:\n",
            "  Successfully uninstalled scikit-learn-1.6.1\n"
          ]
        }
      ],
      "source": [
        "!pip uninstall scikit-learn -y"
      ]
    },
    {
      "cell_type": "code",
      "execution_count": null,
      "metadata": {
        "colab": {
          "base_uri": "https://localhost:8080/"
        },
        "id": "h-XK7G7OsZXI",
        "outputId": "ef5e09e4-33d4-44ab-f070-76026321b482"
      },
      "outputs": [
        {
          "output_type": "stream",
          "name": "stdout",
          "text": [
            "Collecting scikit-learn==1.5.2\n",
            "  Downloading scikit_learn-1.5.2-cp311-cp311-manylinux_2_17_x86_64.manylinux2014_x86_64.whl.metadata (13 kB)\n",
            "Requirement already satisfied: numpy>=1.19.5 in /usr/local/lib/python3.11/dist-packages (from scikit-learn==1.5.2) (2.0.2)\n",
            "Requirement already satisfied: scipy>=1.6.0 in /usr/local/lib/python3.11/dist-packages (from scikit-learn==1.5.2) (1.14.1)\n",
            "Requirement already satisfied: joblib>=1.2.0 in /usr/local/lib/python3.11/dist-packages (from scikit-learn==1.5.2) (1.4.2)\n",
            "Requirement already satisfied: threadpoolctl>=3.1.0 in /usr/local/lib/python3.11/dist-packages (from scikit-learn==1.5.2) (3.6.0)\n",
            "Downloading scikit_learn-1.5.2-cp311-cp311-manylinux_2_17_x86_64.manylinux2014_x86_64.whl (13.3 MB)\n",
            "\u001b[2K   \u001b[90m━━━━━━━━━━━━━━━━━━━━━━━━━━━━━━━━━━━━━━━━\u001b[0m \u001b[32m13.3/13.3 MB\u001b[0m \u001b[31m89.4 MB/s\u001b[0m eta \u001b[36m0:00:00\u001b[0m\n",
            "\u001b[?25hInstalling collected packages: scikit-learn\n",
            "Successfully installed scikit-learn-1.5.2\n"
          ]
        }
      ],
      "source": [
        "pip install scikit-learn==1.5.2"
      ]
    },
    {
      "cell_type": "code",
      "execution_count": null,
      "metadata": {
        "id": "xWhaPENiwwPB"
      },
      "outputs": [],
      "source": [
        "os._exit(00)"
      ]
    },
    {
      "cell_type": "code",
      "execution_count": null,
      "metadata": {
        "colab": {
          "base_uri": "https://localhost:8080/"
        },
        "id": "j5-m4h6Qw9he",
        "outputId": "cee147fb-7046-4670-cfcf-77ded6b12cf0"
      },
      "outputs": [
        {
          "output_type": "stream",
          "name": "stdout",
          "text": [
            "Collecting scikeras\n",
            "  Downloading scikeras-0.13.0-py3-none-any.whl.metadata (3.1 kB)\n",
            "Requirement already satisfied: keras>=3.2.0 in /usr/local/lib/python3.11/dist-packages (from scikeras) (3.8.0)\n",
            "Requirement already satisfied: scikit-learn>=1.4.2 in /usr/local/lib/python3.11/dist-packages (from scikeras) (1.5.2)\n",
            "Requirement already satisfied: absl-py in /usr/local/lib/python3.11/dist-packages (from keras>=3.2.0->scikeras) (1.4.0)\n",
            "Requirement already satisfied: numpy in /usr/local/lib/python3.11/dist-packages (from keras>=3.2.0->scikeras) (2.0.2)\n",
            "Requirement already satisfied: rich in /usr/local/lib/python3.11/dist-packages (from keras>=3.2.0->scikeras) (13.9.4)\n",
            "Requirement already satisfied: namex in /usr/local/lib/python3.11/dist-packages (from keras>=3.2.0->scikeras) (0.0.8)\n",
            "Requirement already satisfied: h5py in /usr/local/lib/python3.11/dist-packages (from keras>=3.2.0->scikeras) (3.13.0)\n",
            "Requirement already satisfied: optree in /usr/local/lib/python3.11/dist-packages (from keras>=3.2.0->scikeras) (0.14.1)\n",
            "Requirement already satisfied: ml-dtypes in /usr/local/lib/python3.11/dist-packages (from keras>=3.2.0->scikeras) (0.4.1)\n",
            "Requirement already satisfied: packaging in /usr/local/lib/python3.11/dist-packages (from keras>=3.2.0->scikeras) (24.2)\n",
            "Requirement already satisfied: scipy>=1.6.0 in /usr/local/lib/python3.11/dist-packages (from scikit-learn>=1.4.2->scikeras) (1.14.1)\n",
            "Requirement already satisfied: joblib>=1.2.0 in /usr/local/lib/python3.11/dist-packages (from scikit-learn>=1.4.2->scikeras) (1.4.2)\n",
            "Requirement already satisfied: threadpoolctl>=3.1.0 in /usr/local/lib/python3.11/dist-packages (from scikit-learn>=1.4.2->scikeras) (3.6.0)\n",
            "Requirement already satisfied: typing-extensions>=4.5.0 in /usr/local/lib/python3.11/dist-packages (from optree->keras>=3.2.0->scikeras) (4.13.0)\n",
            "Requirement already satisfied: markdown-it-py>=2.2.0 in /usr/local/lib/python3.11/dist-packages (from rich->keras>=3.2.0->scikeras) (3.0.0)\n",
            "Requirement already satisfied: pygments<3.0.0,>=2.13.0 in /usr/local/lib/python3.11/dist-packages (from rich->keras>=3.2.0->scikeras) (2.18.0)\n",
            "Requirement already satisfied: mdurl~=0.1 in /usr/local/lib/python3.11/dist-packages (from markdown-it-py>=2.2.0->rich->keras>=3.2.0->scikeras) (0.1.2)\n",
            "Downloading scikeras-0.13.0-py3-none-any.whl (26 kB)\n",
            "Installing collected packages: scikeras\n",
            "Successfully installed scikeras-0.13.0\n"
          ]
        }
      ],
      "source": [
        "!pip install scikeras"
      ]
    },
    {
      "cell_type": "code",
      "execution_count": null,
      "metadata": {
        "id": "Hnf04qw0EY-V"
      },
      "outputs": [],
      "source": [
        "import tensorflow as tf\n",
        "from sklearn.model_selection import GridSearchCV, TimeSeriesSplit\n",
        "from scikeras.wrappers import KerasRegressor\n",
        "from tensorflow.keras.layers import *\n",
        "from tensorflow.keras import Model\n",
        "from tensorflow.keras.callbacks import EarlyStopping\n",
        "from tensorflow.keras.models import Sequential\n",
        "from keras.layers import Dense\n",
        "from tensorflow.keras.layers import Dense, Flatten, LSTM, Bidirectional, Input, Dropout, InputLayer, BatchNormalization\n",
        "from sklearn.metrics import mean_squared_error, mean_absolute_error, root_mean_squared_error, mean_absolute_percentage_error"
      ]
    },
    {
      "cell_type": "code",
      "execution_count": null,
      "metadata": {
        "id": "gG9YiElc_7kz"
      },
      "outputs": [],
      "source": [
        "df_META = pd.read_csv(os.path.join(path_DF, 'df_META.csv'))\n",
        "df_AAPL= pd.read_csv(os.path.join(path_DF, 'df_AAPL.csv'))\n",
        "df_MSFT= pd.read_csv(os.path.join(path_DF, 'df_MSFT.csv'))\n",
        "df_NVDA= pd.read_csv(os.path.join(path_DF, 'df_NVDA.csv'))\n",
        "df_GOOG= pd.read_csv(os.path.join(path_DF, 'df_GOOG.csv'))"
      ]
    },
    {
      "cell_type": "code",
      "execution_count": null,
      "metadata": {
        "id": "uSTDB5B9ugYP"
      },
      "outputs": [],
      "source": [
        "df_META=df_META.drop(['Unnamed: 0'], axis=1)\n",
        "df_META['date'] = pd.to_datetime(df_META['date'])"
      ]
    },
    {
      "cell_type": "code",
      "execution_count": null,
      "metadata": {
        "id": "djQalIUbey2Z"
      },
      "outputs": [],
      "source": [
        "df_AAPL=df_AAPL.drop(['Unnamed: 0'], axis=1)\n",
        "df_AAPL['date'] = pd.to_datetime(df_AAPL['date'])"
      ]
    },
    {
      "cell_type": "code",
      "execution_count": null,
      "metadata": {
        "id": "phlW5GTCey2Z"
      },
      "outputs": [],
      "source": [
        "df_MSFT=df_MSFT.drop(['Unnamed: 0'], axis=1)\n",
        "df_MSFT['date'] = pd.to_datetime(df_MSFT['date'])"
      ]
    },
    {
      "cell_type": "code",
      "execution_count": null,
      "metadata": {
        "id": "6W6ztoJuey2Z"
      },
      "outputs": [],
      "source": [
        "df_NVDA=df_NVDA.drop(['Unnamed: 0'], axis=1)\n",
        "df_NVDA['date'] = pd.to_datetime(df_NVDA['date'])"
      ]
    },
    {
      "cell_type": "code",
      "execution_count": null,
      "metadata": {
        "id": "LQ9DvJ_Dey2Z"
      },
      "outputs": [],
      "source": [
        "df_GOOG=df_GOOG.drop(['Unnamed: 0'], axis=1)\n",
        "df_GOOG['date'] = pd.to_datetime(df_GOOG['date'])"
      ]
    },
    {
      "cell_type": "code",
      "execution_count": null,
      "metadata": {
        "id": "ag8q6iyhqdaZ"
      },
      "outputs": [],
      "source": [
        "train_size = int(len(df_META) * 0.7)  # 70% ของ 753\n",
        "test_size = len(df_META) - train_size  # 30% ที่เหลือ"
      ]
    },
    {
      "cell_type": "markdown",
      "metadata": {
        "id": "BzFoELkSpPNh"
      },
      "source": [
        "# META"
      ]
    },
    {
      "cell_type": "markdown",
      "metadata": {
        "id": "TKO1AFez3JBl"
      },
      "source": [
        "## Train Test"
      ]
    },
    {
      "cell_type": "code",
      "execution_count": null,
      "metadata": {
        "id": "iMokZmc2qCHc"
      },
      "outputs": [],
      "source": [
        "train_META = df_META.iloc[:train_size]  # ข้อมูล train\n",
        "test_META = df_META.iloc[train_size:]  # ข้อมูล test"
      ]
    },
    {
      "cell_type": "markdown",
      "metadata": {
        "id": "88dfBz183N0n"
      },
      "source": [
        "### Train Varidation"
      ]
    },
    {
      "cell_type": "code",
      "execution_count": null,
      "metadata": {
        "id": "z2-SLTebqAfX"
      },
      "outputs": [],
      "source": [
        "X_META = train_META.drop(columns=[\"Stockprice_META\",\"date\",\"RETAIL_SALES\", \"US_Dollar_Index\", \"WTI\"])\n",
        "y_META = train_META[\"Stockprice_META\"]"
      ]
    },
    {
      "cell_type": "markdown",
      "metadata": {
        "id": "SVb6YQjLaCaa"
      },
      "source": [
        "#Normalized"
      ]
    },
    {
      "cell_type": "code",
      "execution_count": null,
      "metadata": {
        "id": "os9nmxXNaGKo"
      },
      "outputs": [],
      "source": [
        "from sklearn.preprocessing import MinMaxScaler\n",
        "scaler = MinMaxScaler(feature_range=(0, 1))\n",
        "\n",
        "X_META = scaler.fit_transform(X_META)"
      ]
    },
    {
      "cell_type": "code",
      "execution_count": null,
      "metadata": {
        "colab": {
          "base_uri": "https://localhost:8080/"
        },
        "id": "BjuMKnVZhopE",
        "outputId": "707f71ea-23c3-4efa-a7d6-4a92e5e3f4f6"
      },
      "outputs": [
        {
          "output_type": "execute_result",
          "data": {
            "text/plain": [
              "522"
            ]
          },
          "metadata": {},
          "execution_count": 14
        }
      ],
      "source": [
        "X_META.shape[0]"
      ]
    },
    {
      "cell_type": "code",
      "execution_count": null,
      "metadata": {
        "id": "QO9y5q6ddHuq"
      },
      "outputs": [],
      "source": [
        "look_back = 10\n",
        "\n",
        "X_META1, y_META1 = [], []\n",
        "for i in range(len(X_META) - look_back):\n",
        "    X_META1.append(X_META[i:i + look_back])\n",
        "    y_META1.append(y_META[i + look_back])\n",
        "\n",
        "X_META1, y_META1 = np.array(X_META1), np.array(y_META1)"
      ]
    },
    {
      "cell_type": "code",
      "execution_count": null,
      "metadata": {
        "colab": {
          "base_uri": "https://localhost:8080/"
        },
        "collapsed": true,
        "id": "JTFHcIMZdW_w",
        "outputId": "604d4538-6945-4762-dcd4-63a36a2e4e29"
      },
      "outputs": [
        {
          "output_type": "execute_result",
          "data": {
            "text/plain": [
              "(512,)"
            ]
          },
          "metadata": {},
          "execution_count": 16
        }
      ],
      "source": [
        "y_META1.shape"
      ]
    },
    {
      "cell_type": "code",
      "execution_count": null,
      "metadata": {
        "colab": {
          "base_uri": "https://localhost:8080/"
        },
        "id": "rly7WHfhf872",
        "outputId": "242cd424-a2f2-4c3d-bfec-15054d8d352e"
      },
      "outputs": [
        {
          "output_type": "execute_result",
          "data": {
            "text/plain": [
              "(512, 10, 15)"
            ]
          },
          "metadata": {},
          "execution_count": 17
        }
      ],
      "source": [
        "X_META1.shape"
      ]
    },
    {
      "cell_type": "code",
      "execution_count": null,
      "metadata": {
        "id": "WpmcaWbKJ8ac"
      },
      "outputs": [],
      "source": [
        "tscv = TimeSeriesSplit(n_splits=5)"
      ]
    },
    {
      "cell_type": "markdown",
      "metadata": {
        "id": "w_DEUG1fbJP4"
      },
      "source": [
        "#MODEL"
      ]
    },
    {
      "cell_type": "code",
      "execution_count": null,
      "metadata": {
        "colab": {
          "base_uri": "https://localhost:8080/"
        },
        "id": "buw4unLOUqlh",
        "outputId": "30e7cb3f-6a64-4bcd-edf1-ea9114a6f899"
      },
      "outputs": [
        {
          "output_type": "stream",
          "name": "stderr",
          "text": [
            "/usr/local/lib/python3.11/dist-packages/joblib/externals/loky/process_executor.py:752: UserWarning: A worker stopped while some jobs were given to the executor. This can be caused by a too short worker timeout or by a memory leak.\n",
            "  warnings.warn(\n",
            "/usr/local/lib/python3.11/dist-packages/numpy/ma/core.py:2846: RuntimeWarning: invalid value encountered in cast\n",
            "  _data = np.array(data, dtype=dtype, copy=copy,\n",
            "/usr/local/lib/python3.11/dist-packages/keras/src/layers/rnn/rnn.py:200: UserWarning: Do not pass an `input_shape`/`input_dim` argument to a layer. When using Sequential models, prefer using an `Input(shape)` object as the first layer in the model instead.\n",
            "  super().__init__(**kwargs)\n"
          ]
        },
        {
          "output_type": "stream",
          "name": "stdout",
          "text": [
            "Best Hyperparameters: {'batch_size': 16, 'epochs': 150, 'optimizer': 'AdamW'}\n",
            "Test Set Mean Squared Error: 191.4534\n",
            "Test Set Root Mean Squared Error: 13.8367\n",
            "Test Set Mean Absolute Error: 10.3364\n",
            "Test Set Mean Absolute Percentage Error: 0.0267\n"
          ]
        }
      ],
      "source": [
        "def create_model(optimizer='Adam', batch_size=32, epochs=10):\n",
        "    model = Sequential()\n",
        "    model.add(LSTM(256, input_shape=(look_back, X_META1.shape[2])))\n",
        "    model.add(Dense(128, activation='relu'))\n",
        "    model.add(Dense(1, activation='linear'))\n",
        "    model.compile(loss='mse', optimizer='Adam')\n",
        "    return model\n",
        "\n",
        "\n",
        "model = KerasRegressor(model=create_model, verbose=0, batch_size=32, epochs=10)\n",
        "\n",
        "\n",
        "param_grid = {'optimizer': ['RMSprop', 'Adam', 'AdamW', 'Nadam'],\n",
        "              'batch_size' :[16,32,64,128,256],\n",
        "              'epochs' :[60,80,100,150]}\n",
        "\n",
        "\n",
        "grid = GridSearchCV(estimator=model, param_grid=param_grid, cv=tscv, scoring='neg_mean_squared_error', n_jobs = -1)\n",
        "\n",
        "\n",
        "grid_result = grid.fit(X_META1, y_META1)\n",
        "\n",
        "best_model = grid_result.best_estimator_\n",
        "best_params = grid_result.best_params_\n",
        "\n",
        "y_pred = best_model.predict(X_META1)\n",
        "mse = mean_squared_error(y_META1, y_pred)\n",
        "rmse = root_mean_squared_error(y_META1, y_pred)\n",
        "mae = mean_absolute_error(y_META1, y_pred)\n",
        "mape = mean_absolute_percentage_error(y_META1, y_pred)\n",
        "print(f\"Best Hyperparameters: {best_params}\")\n",
        "print(f\"Test Set Mean Squared Error: {mse:.4f}\")\n",
        "print(f\"Test Set Root Mean Squared Error: {rmse:.4f}\")\n",
        "print(f\"Test Set Mean Absolute Error: {mae:.4f}\")\n",
        "print(f\"Test Set Mean Absolute Percentage Error: {mape:.4f}\")"
      ]
    },
    {
      "cell_type": "markdown",
      "metadata": {
        "id": "gOK2l4NYbGU-"
      },
      "source": [
        "#APPL"
      ]
    },
    {
      "cell_type": "code",
      "execution_count": null,
      "metadata": {
        "id": "LEsjSeu9q6xD"
      },
      "outputs": [],
      "source": [
        "train_AAPL = df_AAPL.iloc[:train_size]  # ข้อมูล train\n",
        "test_AAPL = df_AAPL.iloc[train_size:]  # ข้อมูล test"
      ]
    },
    {
      "cell_type": "code",
      "execution_count": null,
      "metadata": {
        "id": "A8OkRpKIq6i8"
      },
      "outputs": [],
      "source": [
        "X_AAPL = train_AAPL.drop(columns=[\"Stockprice_AAPL\",\"date\", \"Interest\", \"US_Treasury_Yield\", \"RETAIL_SALES\", \"US_Dollar_Index\"])\n",
        "y_AAPL = train_AAPL[\"Stockprice_AAPL\"]"
      ]
    },
    {
      "cell_type": "code",
      "execution_count": null,
      "metadata": {
        "id": "ULaIYhth8cQX"
      },
      "outputs": [],
      "source": [
        "X_AAPL = scaler.fit_transform(X_AAPL)"
      ]
    },
    {
      "cell_type": "code",
      "execution_count": null,
      "metadata": {
        "id": "kplx5WIvbmuc"
      },
      "outputs": [],
      "source": [
        "look_back = 10\n",
        "\n",
        "X_AAPL1, y_AAPL1 = [], []\n",
        "for i in range(len(X_AAPL) - look_back):\n",
        "    X_AAPL1.append(X_AAPL[i:i + look_back])\n",
        "    y_AAPL1.append(y_AAPL[i + look_back])\n",
        "\n",
        "X_AAPL1, y_AAPL1 = np.array(X_AAPL1), np.array(y_AAPL1)"
      ]
    },
    {
      "cell_type": "code",
      "execution_count": null,
      "metadata": {
        "colab": {
          "base_uri": "https://localhost:8080/"
        },
        "id": "QNM7Z2Yab2e_",
        "outputId": "e7c7812e-6c6d-47ea-e2f5-5742aaabed8b"
      },
      "outputs": [
        {
          "output_type": "stream",
          "name": "stderr",
          "text": [
            "/usr/local/lib/python3.11/dist-packages/joblib/externals/loky/process_executor.py:752: UserWarning: A worker stopped while some jobs were given to the executor. This can be caused by a too short worker timeout or by a memory leak.\n",
            "  warnings.warn(\n",
            "/usr/local/lib/python3.11/dist-packages/keras/src/layers/rnn/rnn.py:200: UserWarning: Do not pass an `input_shape`/`input_dim` argument to a layer. When using Sequential models, prefer using an `Input(shape)` object as the first layer in the model instead.\n",
            "  super().__init__(**kwargs)\n"
          ]
        },
        {
          "output_type": "stream",
          "name": "stdout",
          "text": [
            "Best Hyperparameters: {'batch_size': 16, 'epochs': 150, 'optimizer': 'Nadam'}\n",
            "Test Set Mean Squared Error: 16.9907\n",
            "Test Set Root Mean Squared Error: 4.1220\n",
            "Test Set Mean Absolute Error: 3.2111\n",
            "Test Set Mean Absolute Percentage Error: 0.0167\n"
          ]
        }
      ],
      "source": [
        "def create_model(optimizer='Adam', batch_size=32, epochs=10):\n",
        "    model = Sequential()\n",
        "    model.add(LSTM(256, input_shape=(look_back, X_AAPL1.shape[2])))\n",
        "    model.add(Dense(128, activation='relu'))\n",
        "    model.add(Dense(1, activation='linear'))\n",
        "    model.compile(loss='mse', optimizer='Adam')\n",
        "    return model\n",
        "\n",
        "\n",
        "model = KerasRegressor(model=create_model, verbose=0, batch_size=32, epochs=10)\n",
        "\n",
        "\n",
        "param_grid = {'optimizer': ['RMSprop', 'Adam', 'AdamW', 'Nadam'],\n",
        "              'batch_size' :[16,32,64,128,256],\n",
        "              'epochs' :[60,80,100,150]}\n",
        "\n",
        "\n",
        "\n",
        "grid = GridSearchCV(estimator=model, param_grid=param_grid, cv=tscv, scoring='neg_mean_squared_error', n_jobs = -1)\n",
        "\n",
        "\n",
        "grid_result = grid.fit(X_AAPL1, y_AAPL1)\n",
        "\n",
        "best_model = grid_result.best_estimator_\n",
        "best_params = grid_result.best_params_\n",
        "\n",
        "y_pred = best_model.predict(X_AAPL1)\n",
        "mse = mean_squared_error(y_AAPL1, y_pred)\n",
        "rmse = root_mean_squared_error(y_AAPL1, y_pred)\n",
        "mae = mean_absolute_error(y_AAPL1, y_pred)\n",
        "mape = mean_absolute_percentage_error(y_AAPL1, y_pred)\n",
        "print(f\"Best Hyperparameters: {best_params}\")\n",
        "print(f\"Test Set Mean Squared Error: {mse:.4f}\")\n",
        "print(f\"Test Set Root Mean Squared Error: {rmse:.4f}\")\n",
        "print(f\"Test Set Mean Absolute Error: {mae:.4f}\")\n",
        "print(f\"Test Set Mean Absolute Percentage Error: {mape:.4f}\")"
      ]
    },
    {
      "cell_type": "markdown",
      "metadata": {
        "id": "heLfV9MWbLhy"
      },
      "source": [
        "#MSFT"
      ]
    },
    {
      "cell_type": "code",
      "execution_count": null,
      "metadata": {
        "id": "ifskpSjoq97d"
      },
      "outputs": [],
      "source": [
        "train_MSFT = df_MSFT.iloc[:train_size]  # ข้อมูล train\n",
        "test_MSFT = df_MSFT.iloc[train_size:]  # ข้อมูล test"
      ]
    },
    {
      "cell_type": "code",
      "execution_count": null,
      "metadata": {
        "id": "JWJZRhL6q91W"
      },
      "outputs": [],
      "source": [
        "X_MSFT = train_MSFT.drop(columns=[\"Stockprice_MSFT\",\"date\",\"RETAIL_SALES\", \"US_Dollar_Index\", \"WTI\"])\n",
        "y_MSFT = train_MSFT[\"Stockprice_MSFT\"]"
      ]
    },
    {
      "cell_type": "code",
      "execution_count": null,
      "metadata": {
        "id": "PhUx9a4d8gqP"
      },
      "outputs": [],
      "source": [
        "X_MSFT = scaler.fit_transform(X_MSFT)"
      ]
    },
    {
      "cell_type": "code",
      "execution_count": null,
      "metadata": {
        "id": "JEYRxLXScVZV"
      },
      "outputs": [],
      "source": [
        "look_back = 10\n",
        "\n",
        "X_MSFT1, y_MSFT1 = [], []\n",
        "for i in range(len(X_MSFT) - look_back):\n",
        "    X_MSFT1.append(X_MSFT[i:i + look_back])\n",
        "    y_MSFT1.append(y_MSFT[i + look_back])\n",
        "\n",
        "X_MSFT1, y_MSFT1 = np.array(X_MSFT1), np.array(y_MSFT1)"
      ]
    },
    {
      "cell_type": "code",
      "execution_count": null,
      "metadata": {
        "colab": {
          "base_uri": "https://localhost:8080/"
        },
        "id": "IklZWmgUcVZV",
        "outputId": "a56ba887-3376-4d07-da34-a866ee02c8e0"
      },
      "outputs": [
        {
          "output_type": "stream",
          "name": "stderr",
          "text": [
            "/usr/local/lib/python3.11/dist-packages/joblib/externals/loky/process_executor.py:752: UserWarning: A worker stopped while some jobs were given to the executor. This can be caused by a too short worker timeout or by a memory leak.\n",
            "  warnings.warn(\n",
            "/usr/local/lib/python3.11/dist-packages/keras/src/layers/rnn/rnn.py:200: UserWarning: Do not pass an `input_shape`/`input_dim` argument to a layer. When using Sequential models, prefer using an `Input(shape)` object as the first layer in the model instead.\n",
            "  super().__init__(**kwargs)\n"
          ]
        },
        {
          "output_type": "stream",
          "name": "stdout",
          "text": [
            "Best Hyperparameters: {'batch_size': 16, 'epochs': 150, 'optimizer': 'AdamW'}\n",
            "Test Set Mean Squared Error: 40.4129\n",
            "Test Set Root Mean Squared Error: 6.3571\n",
            "Test Set Mean Absolute Error: 4.9876\n",
            "Test Set Mean Absolute Percentage Error: 0.0134\n"
          ]
        }
      ],
      "source": [
        "def create_model(optimizer='Adam', batch_size=32, epochs=10):\n",
        "    model = Sequential()\n",
        "    model.add(LSTM(256, input_shape=(look_back, X_MSFT1.shape[2])))\n",
        "    model.add(Dense(128, activation='relu'))\n",
        "    model.add(Dense(1, activation='linear'))\n",
        "    model.compile(loss='mse', optimizer='Adam')\n",
        "    return model\n",
        "\n",
        "\n",
        "model = KerasRegressor(model=create_model, verbose=0, batch_size=32, epochs=10)\n",
        "\n",
        "\n",
        "param_grid = {'optimizer': ['RMSprop', 'Adam', 'AdamW', 'Nadam'],\n",
        "              'batch_size' :[16,32,64,128,256],\n",
        "              'epochs' :[60,80,100,150]}\n",
        "\n",
        "\n",
        "grid = GridSearchCV(estimator=model, param_grid=param_grid, cv=tscv, scoring='neg_mean_squared_error', n_jobs = -1)\n",
        "\n",
        "\n",
        "grid_result = grid.fit(X_MSFT1, y_MSFT1)\n",
        "\n",
        "best_model = grid_result.best_estimator_\n",
        "best_params = grid_result.best_params_\n",
        "\n",
        "y_pred = best_model.predict(X_MSFT1)\n",
        "mse = mean_squared_error(y_MSFT1, y_pred)\n",
        "rmse = root_mean_squared_error(y_MSFT1, y_pred)\n",
        "mae = mean_absolute_error(y_MSFT1, y_pred)\n",
        "mape = mean_absolute_percentage_error(y_MSFT1, y_pred)\n",
        "print(f\"Best Hyperparameters: {best_params}\")\n",
        "print(f\"Test Set Mean Squared Error: {mse:.4f}\")\n",
        "print(f\"Test Set Root Mean Squared Error: {rmse:.4f}\")\n",
        "print(f\"Test Set Mean Absolute Error: {mae:.4f}\")\n",
        "print(f\"Test Set Mean Absolute Percentage Error: {mape:.4f}\")"
      ]
    },
    {
      "cell_type": "markdown",
      "metadata": {
        "id": "w56PKuGHbM5I"
      },
      "source": [
        "#NVDA"
      ]
    },
    {
      "cell_type": "code",
      "execution_count": null,
      "metadata": {
        "id": "Oz5zZalBrCX9"
      },
      "outputs": [],
      "source": [
        "train_NVDA = df_NVDA.iloc[:train_size]  # ข้อมูล train\n",
        "test_NVDA = df_NVDA.iloc[train_size:]  # ข้อมูล test"
      ]
    },
    {
      "cell_type": "code",
      "execution_count": null,
      "metadata": {
        "id": "r9JrzV8UrB_m"
      },
      "outputs": [],
      "source": [
        "X_NVDA = train_NVDA.drop(columns=[\"Stockprice_NVDA\",\"date\", \"Interest\",\"RETAIL_SALES\", \"US_Dollar_Index\"])\n",
        "y_NVDA = train_NVDA[\"Stockprice_NVDA\"]"
      ]
    },
    {
      "cell_type": "code",
      "execution_count": null,
      "metadata": {
        "id": "Up2dgKyf8UA6"
      },
      "outputs": [],
      "source": [
        "X_NVDA = scaler.fit_transform(X_NVDA)"
      ]
    },
    {
      "cell_type": "code",
      "execution_count": null,
      "metadata": {
        "id": "eH1H3e5VcWR2"
      },
      "outputs": [],
      "source": [
        "look_back = 10\n",
        "\n",
        "X_NVDA1, y_NVDA1 = [], []\n",
        "for i in range(len(X_NVDA) - look_back):\n",
        "    X_NVDA1.append(X_NVDA[i:i + look_back])\n",
        "    y_NVDA1.append(y_NVDA[i + look_back])\n",
        "\n",
        "X_NVDA1, y_NVDA1 = np.array(X_NVDA1), np.array(y_NVDA1)"
      ]
    },
    {
      "cell_type": "code",
      "execution_count": null,
      "metadata": {
        "colab": {
          "base_uri": "https://localhost:8080/"
        },
        "id": "-KUkWSE_cWR2",
        "outputId": "08370bda-2ca3-426d-d20f-803e45513616"
      },
      "outputs": [
        {
          "output_type": "stream",
          "name": "stderr",
          "text": [
            "/usr/local/lib/python3.11/dist-packages/joblib/externals/loky/process_executor.py:752: UserWarning: A worker stopped while some jobs were given to the executor. This can be caused by a too short worker timeout or by a memory leak.\n",
            "  warnings.warn(\n",
            "/usr/local/lib/python3.11/dist-packages/keras/src/layers/rnn/rnn.py:200: UserWarning: Do not pass an `input_shape`/`input_dim` argument to a layer. When using Sequential models, prefer using an `Input(shape)` object as the first layer in the model instead.\n",
            "  super().__init__(**kwargs)\n"
          ]
        },
        {
          "output_type": "stream",
          "name": "stdout",
          "text": [
            "Best Hyperparameters: {'batch_size': 16, 'epochs': 100, 'optimizer': 'Nadam'}\n",
            "Test Set Mean Squared Error: 22.8992\n",
            "Test Set Root Mean Squared Error: 4.7853\n",
            "Test Set Mean Absolute Error: 3.4074\n",
            "Test Set Mean Absolute Percentage Error: 0.0448\n"
          ]
        }
      ],
      "source": [
        "def create_model(optimizer='Adam', batch_size=32, epochs=10):\n",
        "    model = Sequential()\n",
        "    model.add(LSTM(256, input_shape=(look_back, X_NVDA1.shape[2])))\n",
        "    model.add(Dense(128, activation='relu'))\n",
        "    model.add(Dense(1, activation='linear'))\n",
        "    model.compile(loss='mse', optimizer='Adam')\n",
        "    return model\n",
        "\n",
        "model = KerasRegressor(model=create_model, verbose=0, batch_size=32, epochs=10)\n",
        "\n",
        "\n",
        "param_grid = {'optimizer': ['RMSprop', 'Adam', 'AdamW', 'Nadam'],\n",
        "              'batch_size' :[16,32,64,128,256],\n",
        "              'epochs' :[60,80,100,150]}\n",
        "\n",
        "\n",
        "\n",
        "grid = GridSearchCV(estimator=model, param_grid=param_grid, cv=tscv, scoring='neg_mean_squared_error', n_jobs = -1)\n",
        "\n",
        "\n",
        "grid_result = grid.fit(X_NVDA1, y_NVDA1)\n",
        "\n",
        "best_model = grid_result.best_estimator_\n",
        "best_params = grid_result.best_params_\n",
        "\n",
        "y_pred = best_model.predict(X_NVDA1)\n",
        "mse = mean_squared_error(y_NVDA1, y_pred)\n",
        "rmse = root_mean_squared_error(y_NVDA1, y_pred)\n",
        "mae = mean_absolute_error(y_NVDA1, y_pred)\n",
        "mape = mean_absolute_percentage_error(y_NVDA1, y_pred)\n",
        "print(f\"Best Hyperparameters: {best_params}\")\n",
        "print(f\"Test Set Mean Squared Error: {mse:.4f}\")\n",
        "print(f\"Test Set Root Mean Squared Error: {rmse:.4f}\")\n",
        "print(f\"Test Set Mean Absolute Error: {mae:.4f}\")\n",
        "print(f\"Test Set Mean Absolute Percentage Error: {mape:.4f}\")"
      ]
    },
    {
      "cell_type": "markdown",
      "metadata": {
        "id": "xgF9NdusbOSD"
      },
      "source": [
        "#GOOG"
      ]
    },
    {
      "cell_type": "code",
      "execution_count": null,
      "metadata": {
        "id": "gOuGxqTPiK9H"
      },
      "outputs": [],
      "source": [
        "train_GOOG = df_GOOG.iloc[:train_size]  # ข้อมูล train\n",
        "test_GOOG = df_GOOG.iloc[train_size:]  # ข้อมูล test"
      ]
    },
    {
      "cell_type": "code",
      "execution_count": null,
      "metadata": {
        "id": "tq-voUTqrI89"
      },
      "outputs": [],
      "source": [
        "X_GOOG = train_GOOG.drop(columns=[\"Stockprice_GOOGL\",\"date\", \"Interest\", \"RETAIL_SALES\", \"US_Dollar_Index\", \"WTI\"])\n",
        "y_GOOG = train_GOOG[\"Stockprice_GOOGL\"]"
      ]
    },
    {
      "cell_type": "code",
      "execution_count": null,
      "metadata": {
        "id": "nUFWaVZn8XBx"
      },
      "outputs": [],
      "source": [
        "X_GOOG = scaler.fit_transform(X_GOOG)"
      ]
    },
    {
      "cell_type": "code",
      "execution_count": null,
      "metadata": {
        "id": "vmzi_kf8cWvA"
      },
      "outputs": [],
      "source": [
        "look_back = 10\n",
        "\n",
        "X_GOOG1, y_GOOG1 = [], []\n",
        "for i in range(len(X_GOOG) - look_back):\n",
        "    X_GOOG1.append(X_GOOG[i:i + look_back])\n",
        "    y_GOOG1.append(y_GOOG[i + look_back])\n",
        "\n",
        "X_GOOG1, y_GOOG1 = np.array(X_GOOG1), np.array(y_GOOG1)"
      ]
    },
    {
      "cell_type": "code",
      "execution_count": null,
      "metadata": {
        "colab": {
          "base_uri": "https://localhost:8080/"
        },
        "id": "p7u2SbDqcWvB",
        "outputId": "530efbe1-e5fd-4148-8991-0e5721e7af98"
      },
      "outputs": [
        {
          "output_type": "stream",
          "name": "stderr",
          "text": [
            "/usr/local/lib/python3.11/dist-packages/joblib/externals/loky/process_executor.py:752: UserWarning: A worker stopped while some jobs were given to the executor. This can be caused by a too short worker timeout or by a memory leak.\n",
            "  warnings.warn(\n",
            "/usr/local/lib/python3.11/dist-packages/keras/src/layers/rnn/rnn.py:200: UserWarning: Do not pass an `input_shape`/`input_dim` argument to a layer. When using Sequential models, prefer using an `Input(shape)` object as the first layer in the model instead.\n",
            "  super().__init__(**kwargs)\n"
          ]
        },
        {
          "output_type": "stream",
          "name": "stdout",
          "text": [
            "Best Hyperparameters: {'batch_size': 16, 'epochs': 150, 'optimizer': 'AdamW'}\n",
            "Test Set Mean Squared Error: 14.8092\n",
            "Test Set Root Mean Squared Error: 3.8483\n",
            "Test Set Mean Absolute Error: 2.9632\n",
            "Test Set Mean Absolute Percentage Error: 0.0209\n"
          ]
        }
      ],
      "source": [
        "def create_model(optimizer='Adam', batch_size=32, epochs=10):\n",
        "    model = Sequential()\n",
        "    model.add(LSTM(256, input_shape=(look_back, X_GOOG1.shape[2])))\n",
        "    model.add(Dense(128, activation='relu'))\n",
        "    model.add(Dense(1, activation='linear'))\n",
        "    model.compile(loss='mse', optimizer='Adam')\n",
        "    return model\n",
        "\n",
        "model = KerasRegressor(model=create_model, verbose=0, batch_size=32, epochs=10)\n",
        "\n",
        "\n",
        "param_grid = {'optimizer': ['RMSprop', 'Adam', 'AdamW', 'Nadam'],\n",
        "              'batch_size' :[16,32,64,128,256],\n",
        "              'epochs' :[60,80,100,150]}\n",
        "\n",
        "\n",
        "\n",
        "grid = GridSearchCV(estimator=model, param_grid=param_grid, cv=tscv, scoring='neg_mean_squared_error', n_jobs = -1)\n",
        "\n",
        "\n",
        "grid_result = grid.fit(X_GOOG1, y_GOOG1)\n",
        "\n",
        "best_model = grid_result.best_estimator_\n",
        "best_params = grid_result.best_params_\n",
        "\n",
        "y_pred = best_model.predict(X_GOOG1)\n",
        "mse = mean_squared_error(y_GOOG1, y_pred)\n",
        "rmse = root_mean_squared_error(y_GOOG1, y_pred)\n",
        "mae = mean_absolute_error(y_GOOG1, y_pred)\n",
        "mape = mean_absolute_percentage_error(y_GOOG1, y_pred)\n",
        "print(f\"Best Hyperparameters: {best_params}\")\n",
        "print(f\"Test Set Mean Squared Error: {mse:.4f}\")\n",
        "print(f\"Test Set Root Mean Squared Error: {rmse:.4f}\")\n",
        "print(f\"Test Set Mean Absolute Error: {mae:.4f}\")\n",
        "print(f\"Test Set Mean Absolute Percentage Error: {mape:.4f}\")"
      ]
    },
    {
      "cell_type": "code",
      "source": [],
      "metadata": {
        "id": "QWZkCYYprm3M"
      },
      "execution_count": null,
      "outputs": []
    }
  ]
}